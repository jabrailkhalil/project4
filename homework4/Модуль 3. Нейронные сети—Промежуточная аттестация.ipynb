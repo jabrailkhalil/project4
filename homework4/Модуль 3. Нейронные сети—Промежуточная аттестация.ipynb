{
 "cells": [
  {
   "cell_type": "markdown",
   "metadata": {},
   "source": [
    "# Промежуточная аттестация по сетям искусcтвенных нейронов.\n",
    "## Задание\n",
    "\n",
    "**Ваша задача - создать классификатор изображений с помощью Keras и сверточных нейронных сетей для набора данных Fashion MNIST. Этот набор данных включает 10 меток с разными типами одежды с изображениями 28 на 28 * в оттенках серого *. Имеется обучающий набор из 60 000 изображений и 10 000 тестовых изображений.**\n",
    "\n",
    "Описание классов\n",
    "\n",
    "    Label\tDescription\n",
    "    0\t    T-shirt/top\n",
    "    1\t    Trouser\n",
    "    2\t    Pullover\n",
    "    3\t    Dress\n",
    "    4\t    Coat\n",
    "    5\t    Sandal\n",
    "    6\t    Shirt\n",
    "    7\t    Sneaker\n",
    "    8\t    Bag\n",
    "    9\t    Ankle boot\n",
    "    \n",
    " "
   ]
  },
  {
   "cell_type": "markdown",
   "metadata": {},
   "source": [
    "## Данные\n",
    "\n",
    "**Загружаем данные**"
   ]
  },
  {
   "cell_type": "code",
   "execution_count": 1,
   "metadata": {},
   "outputs": [],
   "source": [
    "from tensorflow.keras.datasets import fashion_mnist\n",
    "\n",
    "(x_train, y_train), (x_test, y_test) = fashion_mnist.load_data()"
   ]
  },
  {
   "cell_type": "markdown",
   "metadata": {},
   "source": [
    "## Визаулизация датасета\n",
    "\n",
    "**Используйте matplotlib чтобы показать пример картинки.**"
   ]
  },
  {
   "cell_type": "code",
   "execution_count": 2,
   "metadata": {
    "scrolled": true
   },
   "outputs": [
    {
     "data": {
      "image/png": "[encoded data removed]",
      "text/plain": [
       "<Figure size 640x480 with 2 Axes>"
      ]
     },
     "metadata": {},
     "output_type": "display_data"
    }
   ],
   "source": [
    "import matplotlib.pyplot as plt\n",
    "\n",
    "# Метки классов\n",
    "class_labels = [\"T-shirt/top\", \"Trouser\", \"Pullover\", \"Dress\", \"Coat\", \"Sandal\", \"Shirt\", \"Sneaker\", \"Bag\", \"Ankle boot\"]\n",
    "\n",
    "# Выбираем индекс изображения для отображения\n",
    "image_index = 0\n",
    "\n",
    "# Вывод изображения и его метки с лаймовым цветом текста на фиолетовом фоне\n",
    "plt.figure()\n",
    "plt.imshow(x_train[image_index], cmap='Purples')  # Фиолетовый фон\n",
    "plt.colorbar()\n",
    "plt.title(class_labels[y_train[image_index]], color='lime')  # Лаймовый цвет текста\n",
    "plt.show()\n"
   ]
  },
  {
   "cell_type": "code",
   "execution_count": null,
   "metadata": {},
   "outputs": [],
   "source": []
  },
  {
   "cell_type": "code",
   "execution_count": null,
   "metadata": {
    "scrolled": true
   },
   "outputs": [],
   "source": []
  },
  {
   "cell_type": "code",
   "execution_count": null,
   "metadata": {},
   "outputs": [],
   "source": []
  },
  {
   "cell_type": "markdown",
   "metadata": {},
   "source": [
    "## Предобработка\n",
    "\n",
    "**Нормализуйте данные X_train и X_test **"
   ]
  },
  {
   "cell_type": "code",
   "execution_count": 3,
   "metadata": {},
   "outputs": [],
   "source": [
    "# Нормализация данных\n",
    "x_train = x_train / 255.0\n",
    "x_test = x_test / 255.0"
   ]
  },
  {
   "cell_type": "code",
   "execution_count": null,
   "metadata": {},
   "outputs": [],
   "source": []
  },
  {
   "cell_type": "code",
   "execution_count": null,
   "metadata": {},
   "outputs": [],
   "source": []
  },
  {
   "cell_type": "markdown",
   "metadata": {},
   "source": [
    "**Измените форму массивов X_train и X_test так, чтобы они стали 4-мерными**\n",
    "batch_size x channels x H x W"
   ]
  },
  {
   "cell_type": "code",
   "execution_count": 4,
   "metadata": {},
   "outputs": [],
   "source": [
    "import numpy as np\n",
    "\n",
    "# Устанавливаем batch_size, channels, H и W\n",
    "batch_size = 32\n",
    "channels = 1\n",
    "H, W = 28, 28\n",
    "\n",
    "# Изменяем форму массивов\n",
    "x_train = x_train.reshape(-1, channels, H, W)\n",
    "x_test = x_test.reshape(-1, channels, H, W)"
   ]
  },
  {
   "cell_type": "code",
   "execution_count": null,
   "metadata": {},
   "outputs": [],
   "source": []
  },
  {
   "cell_type": "code",
   "execution_count": null,
   "metadata": {},
   "outputs": [],
   "source": []
  },
  {
   "cell_type": "markdown",
   "metadata": {},
   "source": [
    "**Преобразуйте  y_train и y_test в one_hot представления **"
   ]
  },
  {
   "cell_type": "code",
   "execution_count": 5,
   "metadata": {},
   "outputs": [],
   "source": [
    "import tensorflow as tf\n",
    "\n",
    "num_classes = 10\n",
    "y_train_one_hot = tf.one_hot(y_train, depth=num_classes)\n",
    "y_test_one_hot = tf.one_hot(y_test, depth=num_classes)"
   ]
  },
  {
   "cell_type": "code",
   "execution_count": null,
   "metadata": {},
   "outputs": [],
   "source": []
  },
  {
   "cell_type": "code",
   "execution_count": null,
   "metadata": {},
   "outputs": [],
   "source": []
  },
  {
   "cell_type": "code",
   "execution_count": null,
   "metadata": {},
   "outputs": [],
   "source": []
  },
  {
   "cell_type": "markdown",
   "metadata": {},
   "source": [
    "## Создайте модель\n",
    "\n",
    "**Примерная структура модели. При выполнении задания вы можете поэкспериментировать со слоями**\n",
    "\n",
    "* Сверточный слой, 32 фильтра, размер ядра=(4,4)\n",
    "* Пулинг с pool_size = (2,2)\n",
    "\n",
    "* Выпрямляющий слой (Flatten)\n",
    "* Полносвязный слой (например 128 нейронов), RELU \n",
    "\n",
    "* Выходной полносвязный слой с 10 нейронами с softmax \n",
    "\n",
    "**При компиляции укажите loss='categorical_crossentropy', optimizer='rmsprop', metrics=['accuracy']**"
   ]
  },
  {
   "cell_type": "code",
   "execution_count": 9,
   "metadata": {},
   "outputs": [
    {
     "name": "stdout",
     "output_type": "stream",
     "text": [
      "Downloading data from https://storage.googleapis.com/tensorflow/tf-keras-datasets/mnist.npz\n",
      "11490434/11490434 [==============================] - 1s 0us/step\n",
      "Epoch 1/10\n",
      "938/938 [==============================] - 8s 9ms/step - loss: 0.1660 - accuracy: 0.9499 - val_loss: 0.0705 - val_accuracy: 0.9775\n",
      "Epoch 2/10\n",
      "938/938 [==============================] - 8s 9ms/step - loss: 0.0521 - accuracy: 0.9844 - val_loss: 0.0450 - val_accuracy: 0.9842\n",
      "Epoch 3/10\n",
      "938/938 [==============================] - 8s 9ms/step - loss: 0.0355 - accuracy: 0.9894 - val_loss: 0.0405 - val_accuracy: 0.9856\n",
      "Epoch 4/10\n",
      "938/938 [==============================] - 8s 9ms/step - loss: 0.0247 - accuracy: 0.9927 - val_loss: 0.0390 - val_accuracy: 0.9865\n",
      "Epoch 5/10\n",
      "938/938 [==============================] - 8s 9ms/step - loss: 0.0184 - accuracy: 0.9942 - val_loss: 0.0359 - val_accuracy: 0.9890\n",
      "Epoch 6/10\n",
      "938/938 [==============================] - 8s 9ms/step - loss: 0.0132 - accuracy: 0.9964 - val_loss: 0.0311 - val_accuracy: 0.9893\n",
      "Epoch 7/10\n",
      "938/938 [==============================] - 8s 9ms/step - loss: 0.0093 - accuracy: 0.9972 - val_loss: 0.0385 - val_accuracy: 0.9883\n",
      "Epoch 8/10\n",
      "938/938 [==============================] - 8s 9ms/step - loss: 0.0074 - accuracy: 0.9979 - val_loss: 0.0499 - val_accuracy: 0.9867\n",
      "Epoch 9/10\n",
      "938/938 [==============================] - 8s 9ms/step - loss: 0.0056 - accuracy: 0.9981 - val_loss: 0.0406 - val_accuracy: 0.9901\n",
      "Epoch 10/10\n",
      "938/938 [==============================] - 8s 9ms/step - loss: 0.0038 - accuracy: 0.9991 - val_loss: 0.0404 - val_accuracy: 0.9889\n",
      "Training completed.\n"
     ]
    }
   ],
   "source": [
    "import tensorflow as tf\n",
    "from tensorflow import keras\n",
    "from tensorflow.keras import layers\n",
    "\n",
    "# Загружаем данные\n",
    "mnist = keras.datasets.mnist\n",
    "(x_train, y_train), (x_test, y_test) = mnist.load_data()\n",
    "\n",
    "# Нормализация данных\n",
    "x_train, x_test = x_train / 255.0, x_test / 255.0\n",
    "\n",
    "# Преобразование меток в one-hot представление\n",
    "y_train_one_hot = tf.one_hot(y_train, depth=10)\n",
    "y_test_one_hot = tf.one_hot(y_test, depth=10)\n",
    "\n",
    "# Изменение формы массивов\n",
    "x_train = x_train.reshape(-1, 28, 28, 1)\n",
    "x_test = x_test.reshape(-1, 28, 28, 1)\n",
    "\n",
    "# Создаем модель\n",
    "model = keras.Sequential([\n",
    "    layers.Conv2D(32, (4, 4), activation='relu', input_shape=(28, 28, 1)),\n",
    "    layers.MaxPooling2D(pool_size=(2, 2)),\n",
    "    layers.Flatten(),\n",
    "    layers.Dense(128, activation='relu'),\n",
    "    layers.Dense(10, activation='softmax')\n",
    "])\n",
    "\n",
    "# Компилируем модель\n",
    "model.compile(optimizer='rmsprop',\n",
    "              loss='categorical_crossentropy',\n",
    "              metrics=['accuracy'])\n",
    "\n",
    "# Тренируем модель\n",
    "epochs = 10\n",
    "history = model.fit(x_train, y_train_one_hot, epochs=epochs, batch_size=64, validation_data=(x_test, y_test_one_hot))\n",
    "\n",
    "# Выводим информацию о тренировке\n",
    "print(\"Training completed.\")"
   ]
  },
  {
   "cell_type": "code",
   "execution_count": null,
   "metadata": {},
   "outputs": [],
   "source": []
  },
  {
   "cell_type": "code",
   "execution_count": null,
   "metadata": {},
   "outputs": [],
   "source": []
  },
  {
   "cell_type": "markdown",
   "metadata": {},
   "source": [
    "### Тренировка модели\n",
    "**Тренируем модель на x_train. Число эпох выберите самостоятельно**"
   ]
  },
  {
   "cell_type": "code",
   "execution_count": 10,
   "metadata": {},
   "outputs": [
    {
     "name": "stdout",
     "output_type": "stream",
     "text": [
      "313/313 [==============================] - 1s 2ms/step\n",
      "Accuracy: 0.9889\n",
      "Precision: 0.9889198883804197\n",
      "Recall: 0.9889\n",
      "F1-Score: 0.9889008278337904\n"
     ]
    }
   ],
   "source": [
    "from sklearn.metrics import accuracy_score, precision_score, recall_score, f1_score\n",
    "\n",
    "# Получите предсказания модели на тестовой выборке\n",
    "y_pred = model.predict(x_test)\n",
    "\n",
    "# Преобразуйте one-hot представление предсказаний и истинных меток обратно в целые числа\n",
    "y_pred_classes = y_pred.argmax(axis=1)\n",
    "y_true_classes = y_test\n",
    "\n",
    "# Оцените модель\n",
    "accuracy = accuracy_score(y_true_classes, y_pred_classes)\n",
    "precision = precision_score(y_true_classes, y_pred_classes, average='weighted')\n",
    "recall = recall_score(y_true_classes, y_pred_classes, average='weighted')\n",
    "f1 = f1_score(y_true_classes, y_pred_classes, average='weighted')\n",
    "\n",
    "print(f'Accuracy: {accuracy}')\n",
    "print(f'Precision: {precision}')\n",
    "print(f'Recall: {recall}')\n",
    "print(f'F1-Score: {f1}')"
   ]
  },
  {
   "cell_type": "markdown",
   "metadata": {},
   "source": [
    "### Оценка модели\n",
    "\n",
    "**Оцените модель по метрикам accuracy,precision,recall,f1-score на тестовой выборке x_test **"
   ]
  },
  {
   "cell_type": "code",
   "execution_count": 12,
   "metadata": {},
   "outputs": [
    {
     "name": "stdout",
     "output_type": "stream",
     "text": [
      "313/313 [==============================] - 1s 2ms/step\n",
      "Accuracy: 0.9889\n",
      "Precision: 0.9889198883804197\n",
      "Recall: 0.9889\n",
      "F1-Score: 0.9889008278337904\n"
     ]
    }
   ],
   "source": [
    "from sklearn.metrics import accuracy_score, precision_score, recall_score, f1_score\n",
    "\n",
    "# Получите предсказания модели на тестовой выборке\n",
    "y_pred = model.predict(x_test)\n",
    "\n",
    "# Оцените модель\n",
    "accuracy = accuracy_score(y_test, y_pred_classes)\n",
    "precision = precision_score(y_test, y_pred_classes, average='weighted')\n",
    "recall = recall_score(y_test, y_pred_classes, average='weighted')\n",
    "f1 = f1_score(y_test, y_pred_classes, average='weighted')\n",
    "\n",
    "print(f'Accuracy: {accuracy}')\n",
    "print(f'Precision: {precision}')\n",
    "print(f'Recall: {recall}')\n",
    "print(f'F1-Score: {f1}')\n"
   ]
  },
  {
   "cell_type": "code",
   "execution_count": null,
   "metadata": {},
   "outputs": [],
   "source": []
  },
  {
   "cell_type": "code",
   "execution_count": null,
   "metadata": {},
   "outputs": [],
   "source": []
  },
  {
   "cell_type": "code",
   "execution_count": null,
   "metadata": {},
   "outputs": [],
   "source": []
  },
  {
   "cell_type": "code",
   "execution_count": null,
   "metadata": {},
   "outputs": [],
   "source": []
  },
  {
   "cell_type": "code",
   "execution_count": null,
   "metadata": {},
   "outputs": [],
   "source": []
  },
  {
   "cell_type": "code",
   "execution_count": null,
   "metadata": {},
   "outputs": [],
   "source": []
  },
  {
   "cell_type": "code",
   "execution_count": null,
   "metadata": {},
   "outputs": [],
   "source": []
  },
  {
   "cell_type": "code",
   "execution_count": null,
   "metadata": {
    "scrolled": true
   },
   "outputs": [],
   "source": [
    "print(classification_report(y_test,predictions))"
   ]
  },
  {
   "cell_type": "markdown",
   "metadata": {},
   "source": [
    "## Дополнительно\n",
    " \n",
    "* Отрисуйте фильтры на слое Conv2D, сравните до и после обучения модели"
   ]
  },
  {
   "cell_type": "code",
   "execution_count": 17,
   "metadata": {},
   "outputs": [
    {
     "data": {
      "image/png": "[encoded data removed]",
      "text/plain": [
       "<Figure size 1000x500 with 32 Axes>"
      ]
     },
     "metadata": {},
     "output_type": "display_data"
    },
    {
     "data": {
      "image/png": "[encoded data removed]",
      "text/plain": [
       "<Figure size 1000x500 with 32 Axes>"
      ]
     },
     "metadata": {},
     "output_type": "display_data"
    }
   ],
   "source": [
    "# Создайте модель, включая только сверточные слои\n",
    "conv_model = Model(inputs=model.input, outputs=model.layers[0].output)  # Измените индекс на 0\n",
    "\n",
    "# Получите фильтры из слоя\n",
    "filters = model.layers[0].get_weights()[0]\n",
    "\n",
    "# Отрисуйте фильтры до обучения модели\n",
    "plt.figure(figsize=(10, 5))\n",
    "for i in range(filters.shape[3]):\n",
    "    plt.subplot(4, 8, i + 1)\n",
    "    plt.imshow(filters[:, :, 0, i], cmap='viridis')\n",
    "    plt.axis('off')\n",
    "plt.suptitle('Filters Before Training')\n",
    "plt.show()\n",
    "\n",
    "# Теперь обучите модель\n",
    "# ...\n",
    "\n",
    "# Отрисуйте фильтры после обучения модели\n",
    "filters = model.layers[0].get_weights()[0]\n",
    "plt.figure(figsize=(10, 5))\n",
    "for i in range(filters.shape[3]):\n",
    "    plt.subplot(4, 8, i + 1)\n",
    "    plt.imshow(filters[:, :, 0, i], cmap='viridis')\n",
    "    plt.axis('off')\n",
    "plt.suptitle('Filters After Training')\n",
    "plt.show()"
   ]
  },
  {
   "cell_type": "code",
   "execution_count": null,
   "metadata": {},
   "outputs": [],
   "source": []
  }
 ],
 "metadata": {
  "kernelspec": {
   "display_name": "Python 3 (ipykernel)",
   "language": "python",
   "name": "python3"
  },
  "language_info": {
   "codemirror_mode": {
    "name": "ipython",
    "version": 3
   },
   "file_extension": ".py",
   "mimetype": "text/x-python",
   "name": "python",
   "nbconvert_exporter": "python",
   "pygments_lexer": "ipython3",
   "version": "3.11.5"
  }
 },
 "nbformat": 4,
 "nbformat_minor": 2
}
